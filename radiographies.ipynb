{
  "nbformat": 4,
  "nbformat_minor": 0,
  "metadata": {
    "colab": {
      "provenance": [],
      "gpuType": "T4",
      "include_colab_link": true
    },
    "kernelspec": {
      "name": "python3",
      "display_name": "Python 3"
    },
    "language_info": {
      "name": "python"
    },
    "accelerator": "GPU"
  },
  "cells": [
    {
      "cell_type": "markdown",
      "metadata": {
        "id": "view-in-github",
        "colab_type": "text"
      },
      "source": [
        "<a href=\"https://colab.research.google.com/github/juang1910/Radiographies/blob/main/radiographies.ipynb\" target=\"_parent\"><img src=\"https://colab.research.google.com/assets/colab-badge.svg\" alt=\"Open In Colab\"/></a>"
      ]
    },
    {
      "cell_type": "markdown",
      "source": [
        "Importar cosas necesarias"
      ],
      "metadata": {
        "id": "a8OkNJ9uq8_D"
      }
    },
    {
      "cell_type": "code",
      "execution_count": null,
      "metadata": {
        "id": "LnLNg7wny_3u",
        "colab": {
          "base_uri": "https://localhost:8080/"
        },
        "outputId": "c8dfa013-e583-4b27-9571-dfaf1e6e54ee"
      },
      "outputs": [
        {
          "output_type": "stream",
          "name": "stdout",
          "text": [
            "cuda\n"
          ]
        }
      ],
      "source": [
        "\n",
        "import torch\n",
        "import torch.nn as nn\n",
        "import torch.nn.functional as F\n",
        "from torch.utils.data import random_split, TensorDataset\n",
        "from torchvision import datasets, transforms\n",
        "import numpy as np\n",
        "import pandas as pd\n",
        "from sklearn.preprocessing import StandardScaler\n",
        "from PIL import Image\n",
        "import os\n",
        "import cv2\n",
        "import matplotlib.pyplot as plt\n",
        "import torch.optim as optim\n",
        "\n",
        "\n",
        "\n",
        "if torch.cuda.is_available():\n",
        "    device = torch.device('cuda')\n",
        "else:\n",
        "    device = torch.device('cpu')\n",
        "print(device)"
      ]
    },
    {
      "cell_type": "markdown",
      "source": [
        "Adding dataset from github"
      ],
      "metadata": {
        "id": "iWX_KQanrlA5"
      }
    },
    {
      "cell_type": "code",
      "source": [
        "#from google.colab import drive\n",
        "#drive.mount('/content/drive')\n",
        "\n",
        "!git clone https://github.com/juang1910/Radiographies.git\n",
        "!git config --global credential.helper cache\n",
        "\n"
      ],
      "metadata": {
        "colab": {
          "base_uri": "https://localhost:8080/"
        },
        "id": "ycnKlZJb3SgP",
        "outputId": "7e75c8e7-26f8-42b2-975c-75e0d210470a"
      },
      "execution_count": null,
      "outputs": [
        {
          "output_type": "stream",
          "name": "stdout",
          "text": [
            "Cloning into 'Radiographies'...\n",
            "fatal: could not read Username for 'https://github.com': No such device or address\n"
          ]
        }
      ]
    },
    {
      "cell_type": "markdown",
      "source": [
        "## **Carga de los datos**"
      ],
      "metadata": {
        "id": "M2Os2F_N6Jf-"
      }
    },
    {
      "cell_type": "code",
      "source": [
        "# Definir transformaciones para preprocesar las imágenes\n",
        "transform = transforms.Compose([\n",
        "    transforms.Resize((112, 112)),  # Redimensionar las imágenes a 224x224 píxeles\n",
        "    transforms.ToTensor(),    # Convertir las imágenes a tensores\n",
        "    transforms.Normalize([0.2184, 0.2184, 0.2184],[0.2088, 0.2088, 0.2088])\n",
        "])\n",
        "\n",
        "# Rutas de las carpetas con las imágenes\n",
        "#data_dir = '/content/drive/MyDrive/USP/D2024-1/data'\n",
        "data_dir = 'Radiographies/data'\n",
        "\n",
        "# Cargar conjunto de datos de entrenamiento\n",
        "train_dataset = datasets.ImageFolder(root=os.path.join(data_dir, 'train'), transform=transform)\n",
        "\n",
        "# Obtener el número total de imágenes en la carpeta de entrenamiento\n",
        "total_train_images = len(train_dataset)\n",
        "\n",
        "# Determinar el número de imágenes para el conjunto de validación y el conjunto de entrenamiento\n",
        "num_val_images = 1000\n",
        "num_train_images = total_train_images - num_val_images\n",
        "\n",
        "# Dividir las imágenes en dos conjuntos de datos: validación y entrenamiento\n",
        "val_dataset, train_dataset = torch.utils.data.random_split(train_dataset, [num_val_images, num_train_images])\n",
        "\n",
        "# Cargar conjunto de datos de prueba (usar todas las imágenes de la carpeta \"val\")\n",
        "test_dataset = datasets.ImageFolder(root=os.path.join(data_dir, 'val'), transform=transform)\n",
        "\n",
        "# Definir DataLoader para cargar los datos de entrenamiento, validación y prueba\n",
        "batch_size = 32\n",
        "train_loader = torch.utils.data.DataLoader(train_dataset, batch_size=batch_size, shuffle=True)\n",
        "val_loader = torch.utils.data.DataLoader(val_dataset, batch_size=batch_size, shuffle=False)\n",
        "test_loader = torch.utils.data.DataLoader(test_dataset, batch_size=batch_size, shuffle=False)\n",
        "\n",
        "# Verificar el tamaño de los conjuntos de datos de entrenamiento, validación y prueba\n",
        "print(\"Número total de imágenes de entrenamiento:\", len(train_dataset))\n",
        "print(\"Número total de imágenes de validación:\", len(val_dataset))\n",
        "print(\"Número total de imágenes de prueba:\", len(test_dataset))"
      ],
      "metadata": {
        "colab": {
          "base_uri": "https://localhost:8080/"
        },
        "id": "iHNgU2DudrVL",
        "outputId": "f41c61e4-3886-4f78-b1d8-ec0799519912"
      },
      "execution_count": null,
      "outputs": [
        {
          "output_type": "stream",
          "name": "stdout",
          "text": [
            "Número total de imágenes de entrenamiento: 7863\n",
            "Número total de imágenes de validación: 1000\n",
            "Número total de imágenes de prueba: 600\n"
          ]
        }
      ]
    },
    {
      "cell_type": "code",
      "source": [
        "imgs, _ = next(iter(train_loader))\n",
        "print(\"Batch mean\", imgs.mean(dim=[0,2,3]))\n",
        "print(\"Batch std\", imgs.std(dim=[0,2,3]))"
      ],
      "metadata": {
        "colab": {
          "base_uri": "https://localhost:8080/"
        },
        "id": "GJsSqxppBsoa",
        "outputId": "4dec757a-8571-4b62-ec6c-5f222ad25945"
      },
      "execution_count": null,
      "outputs": [
        {
          "output_type": "stream",
          "name": "stdout",
          "text": [
            "Batch mean tensor([-0.0478, -0.0478, -0.0478])\n",
            "Batch std tensor([1.0090, 1.0090, 1.0090])\n"
          ]
        }
      ]
    },
    {
      "cell_type": "markdown",
      "source": [
        "## Calculo de media y desviación estandar"
      ],
      "metadata": {
        "id": "zxC4tKxr7gWF"
      }
    },
    {
      "cell_type": "code",
      "source": [
        "# Calcular la media y la desviación estándar de las imágenes\n",
        "loader = torch.utils.data.DataLoader(dataset, batch_size=len(dataset), shuffle=False)\n",
        "data = next(iter(loader))\n",
        "images = data[0]\n",
        "\n",
        "mean = torch.mean(images, dim=(0, 2, 3))  # Calcular la media de todas las imágenes en el dataset\n",
        "std = torch.std(images, dim=(0, 2, 3))    # Calcular la desviación estándar de todas las imágenes en el dataset\n",
        "\n",
        "print(\"Media de las imágenes:\", mean)\n",
        "print(\"Desviación estándar de las imágenes:\", std)"
      ],
      "metadata": {
        "colab": {
          "base_uri": "https://localhost:8080/"
        },
        "id": "UJyJEQXjicCy",
        "outputId": "b57c1b63-da9b-4e54-9781-e6f538d86ba5"
      },
      "execution_count": null,
      "outputs": [
        {
          "output_type": "stream",
          "name": "stdout",
          "text": [
            "Media de las imágenes: tensor([0.2184, 0.2184, 0.2184])\n",
            "Desviación estándar de las imágenes: tensor([0.2088, 0.2088, 0.2088])\n"
          ]
        }
      ]
    },
    {
      "cell_type": "markdown",
      "source": [
        "## Mostrar una imagen"
      ],
      "metadata": {
        "id": "vRh9AbTN7kgM"
      }
    },
    {
      "cell_type": "code",
      "source": [
        "\n",
        "\n",
        "# Obtener la primera iteración del DataLoader para obtener la primera imagen\n",
        "images, labels = next(iter(train_loader))\n",
        "\n",
        "# Obtener la primera imagen y su etiqueta\n",
        "image = images[0]\n",
        "label = labels[0]\n",
        "\n",
        "# Convertir la imagen de tensor a NumPy y cambiar las dimensiones para matplotlib\n",
        "image_np = image.numpy().transpose((1, 2, 0))\n",
        "\n",
        "# Desnormalizar la imagen (inversa de la transformación ToTensor())\n",
        "mean = np.array([0.485, 0.456, 0.406])\n",
        "std = np.array([0.229, 0.224, 0.225])\n",
        "image_np = std * image_np + mean\n",
        "image_np = np.clip(image_np, 0, 1)  # Asegurar que los valores estén en el rango [0, 1]\n",
        "\n",
        "# Imprimir la imagen y su etiqueta\n",
        "plt.imshow(image_np)\n",
        "plt.title(dataset.classes[label])\n",
        "plt.axis('off')\n",
        "plt.show()"
      ],
      "metadata": {
        "colab": {
          "base_uri": "https://localhost:8080/",
          "height": 428
        },
        "id": "HifIOE3depsi",
        "outputId": "302b75f2-b3e8-42b4-dda8-1b1baa716ee6"
      },
      "execution_count": null,
      "outputs": [
        {
          "output_type": "display_data",
          "data": {
            "text/plain": [
              "<Figure size 640x480 with 1 Axes>"
            ],
            "image/png": "[encoded data removed]"
          },
          "metadata": {}
        }
      ]
    },
    {
      "cell_type": "code",
      "source": [
        "try:\n",
        "    import pytorch_lightning as pl\n",
        "except ModuleNotFoundError: # Google Colab does not have PyTorch Lightning installed by default. Hence, we do it here if necessary\n",
        "    !pip install --quiet pytorch-lightning>=1.5\n",
        "    import pytorch_lightning as pl\n",
        "\n",
        "# Setting the seed\n",
        "pl.seed_everything(42)"
      ],
      "metadata": {
        "colab": {
          "base_uri": "https://localhost:8080/"
        },
        "id": "ofw9sEyODCVr",
        "outputId": "bf597444-f66c-4baf-dea9-ef6e4444938f"
      },
      "execution_count": null,
      "outputs": [
        {
          "output_type": "stream",
          "name": "stderr",
          "text": [
            "INFO:lightning_fabric.utilities.seed:Seed set to 42\n"
          ]
        },
        {
          "output_type": "execute_result",
          "data": {
            "text/plain": [
              "42"
            ]
          },
          "metadata": {},
          "execution_count": 6
        }
      ]
    },
    {
      "cell_type": "markdown",
      "source": [
        "## **Funcion accuracy**"
      ],
      "metadata": {
        "id": "n86k8DsPFNYs"
      }
    },
    {
      "cell_type": "code",
      "source": [
        "#for i, (x,y) in enumerate(test_loader):\n",
        "    #print(i, x.shape, y.shape)"
      ],
      "metadata": {
        "id": "gHxgVOroFdli"
      },
      "execution_count": null,
      "outputs": []
    },
    {
      "cell_type": "code",
      "source": [
        "def accuracy(model, loader):\n",
        "    num_correct = 0\n",
        "    num_total = 0\n",
        "    model.eval()\n",
        "    model = model.to(device=device)\n",
        "    with torch.no_grad():\n",
        "        for xi, yi in loader:\n",
        "            xi = xi.to(device=device, dtype = torch.float32)\n",
        "            yi = yi.to(device=device, dtype = torch.long)\n",
        "            scores = model(xi)\n",
        "            _, pred = scores.max(dim=1)\n",
        "            num_correct += (pred == yi).sum()\n",
        "            num_total += pred.size(0)\n",
        "        return float(num_correct)/num_total"
      ],
      "metadata": {
        "id": "lfLGrOBaDufj"
      },
      "execution_count": null,
      "outputs": []
    },
    {
      "cell_type": "markdown",
      "source": [
        "## **Inception block**"
      ],
      "metadata": {
        "id": "bHseltAAFp5a"
      }
    },
    {
      "cell_type": "code",
      "source": [
        "class InceptionBlock(nn.Module):\n",
        "\n",
        "    def __init__(self, c_in, c_red : dict, c_out : dict, act_fn):\n",
        "        \"\"\"\n",
        "        Inputs:\n",
        "            c_in - Number of input feature maps from the previous layers\n",
        "            c_red - Dictionary with keys \"3x3\" and \"5x5\" specifying the output of the dimensionality reducing 1x1 convolutions\n",
        "            c_out - Dictionary with keys \"1x1\", \"3x3\", \"5x5\", and \"max\"\n",
        "            act_fn - Activation class constructor (e.g. nn.ReLU)\n",
        "        \"\"\"\n",
        "        super().__init__()\n",
        "\n",
        "        # 1x1 convolution branch\n",
        "        self.conv_1x1 = nn.Sequential(\n",
        "            nn.Conv2d(c_in, c_out[\"1x1\"], kernel_size=1),\n",
        "            nn.BatchNorm2d(c_out[\"1x1\"]),\n",
        "            act_fn()\n",
        "        )\n",
        "\n",
        "        # 3x3 convolution branch\n",
        "        self.conv_3x3 = nn.Sequential(\n",
        "            nn.Conv2d(c_in, c_red[\"3x3\"], kernel_size=1),\n",
        "            nn.BatchNorm2d(c_red[\"3x3\"]),\n",
        "            act_fn(),\n",
        "            nn.Conv2d(c_red[\"3x3\"], c_out[\"3x3\"], kernel_size=3, padding=1),\n",
        "            nn.BatchNorm2d(c_out[\"3x3\"]),\n",
        "            act_fn()\n",
        "        )\n",
        "\n",
        "        # 5x5 convolution branch\n",
        "        self.conv_5x5 = nn.Sequential(\n",
        "            nn.Conv2d(c_in, c_red[\"5x5\"], kernel_size=1),\n",
        "            nn.BatchNorm2d(c_red[\"5x5\"]),\n",
        "            act_fn(),\n",
        "            nn.Conv2d(c_red[\"5x5\"], c_out[\"5x5\"], kernel_size=5, padding=2),\n",
        "            nn.BatchNorm2d(c_out[\"5x5\"]),\n",
        "            act_fn()\n",
        "        )\n",
        "\n",
        "        # Max-pool branch\n",
        "        self.max_pool = nn.Sequential(\n",
        "            nn.MaxPool2d(kernel_size=3, padding=1, stride=1),\n",
        "            nn.Conv2d(c_in, c_out[\"max\"], kernel_size=1),\n",
        "            nn.BatchNorm2d(c_out[\"max\"]),\n",
        "            act_fn()\n",
        "        )\n",
        "\n",
        "    def forward(self, x):\n",
        "        x_1x1 = self.conv_1x1(x)\n",
        "        x_3x3 = self.conv_3x3(x)\n",
        "        x_5x5 = self.conv_5x5(x)\n",
        "        x_max = self.max_pool(x)\n",
        "        x_out = torch.cat([x_1x1, x_3x3, x_5x5, x_max], dim=1)\n",
        "        return x_out"
      ],
      "metadata": {
        "id": "RJ4LbNVIw_G7"
      },
      "execution_count": null,
      "outputs": []
    },
    {
      "cell_type": "code",
      "source": [
        "class RadiographiesNet(nn.Module):\n",
        "    def __init__(self, num_classes=2, act_fn=nn.ReLU):\n",
        "        super(RadiographiesNet, self).__init__()\n",
        "\n",
        "        self.conv1 = nn.Sequential(\n",
        "            nn.Conv2d(3, 64, kernel_size=7, stride=2, padding=3),\n",
        "            nn.BatchNorm2d(64),\n",
        "            act_fn(),\n",
        "            nn.MaxPool2d(kernel_size=3, stride=2, padding=1)\n",
        "        )\n",
        "\n",
        "        self.inception1 = InceptionBlock(c_in=64, c_red={\"3x3\": 32, \"5x5\": 32}, c_out={\"1x1\": 64, \"3x3\": 64, \"5x5\": 64, \"max\": 64}, act_fn=act_fn)\n",
        "        self.inception2 = InceptionBlock(c_in=256, c_red={\"3x3\": 64, \"5x5\": 64}, c_out={\"1x1\": 128, \"3x3\": 128, \"5x5\": 128, \"max\": 128}, act_fn=act_fn)\n",
        "\n",
        "        self.pool = nn.AdaptiveAvgPool2d((1, 1))\n",
        "        self.fc = nn.Linear(512, num_classes)\n",
        "\n",
        "    def forward(self, x):\n",
        "        x = self.conv1(x)\n",
        "        x = self.inception1(x)\n",
        "        x = self.inception2(x)\n",
        "        x = self.pool(x)\n",
        "        x = torch.flatten(x, 1)\n",
        "        x = self.fc(x)\n",
        "        return x\n",
        "\n",
        "def createNetwork(num_classes=2):\n",
        "    return RadiographiesNet(num_classes=num_classes)"
      ],
      "metadata": {
        "id": "2dPWFUDS1kMX"
      },
      "execution_count": null,
      "outputs": []
    },
    {
      "cell_type": "code",
      "source": [
        "# Configurar dispositivo\n",
        "device = torch.device(\"cuda\" if torch.cuda.is_available() else \"cpu\")\n",
        "model = createNetwork(num_classes=2)\n",
        "model = model.to(device)\n",
        "\n",
        "# Definir la función de pérdida y el optimizador\n",
        "criterion = nn.CrossEntropyLoss()\n",
        "optimizer = optim.Adam(model.parameters(), lr=0.001)\n",
        "\n",
        "# Entrenar el modelo\n",
        "num_epochs = 10\n",
        "train_loss_history = []\n",
        "val_loss_history = []\n",
        "\n",
        "for epoch in range(num_epochs):\n",
        "    model.train()\n",
        "    running_loss = 0.0\n",
        "    for inputs, labels in train_loader:\n",
        "        inputs, labels = inputs.to(device), labels.to(device)\n",
        "        optimizer.zero_grad()\n",
        "        outputs = model(inputs)\n",
        "        loss = criterion(outputs, labels)\n",
        "        loss.backward()\n",
        "        optimizer.step()\n",
        "        running_loss += loss.item()\n",
        "    train_loss_history.append(running_loss / len(train_loader))\n",
        "\n",
        "    model.eval()\n",
        "    val_loss = 0.0\n",
        "    with torch.no_grad():\n",
        "        for inputs, labels in val_loader:\n",
        "            inputs, labels = inputs.to(device), labels.to(device)\n",
        "            outputs = model(inputs)\n",
        "            loss = criterion(outputs, labels)\n",
        "            val_loss += loss.item()\n",
        "    val_loss_history.append(val_loss / len(val_loader))\n",
        "\n",
        "    print(f\"Epoch {epoch+1}/{num_epochs}, Training Loss: {train_loss_history[-1]}, Validation Loss: {val_loss_history[-1]}\")\n",
        "\n",
        "# Graficar la pérdida de entrenamiento y validación\n",
        "plt.figure(figsize=(10, 5))\n",
        "plt.plot(train_loss_history, label='Training Loss')\n",
        "plt.plot(val_loss_history, label='Validation Loss')\n",
        "plt.xlabel('Epochs')\n",
        "plt.ylabel('Loss')\n",
        "plt.legend()\n",
        "plt.show()"
      ],
      "metadata": {
        "colab": {
          "base_uri": "https://localhost:8080/",
          "height": 650
        },
        "id": "IuiUeJ5p2uXz",
        "outputId": "28745c9d-5ed7-4142-ebd4-fb5cbd86b65f"
      },
      "execution_count": null,
      "outputs": [
        {
          "output_type": "stream",
          "name": "stdout",
          "text": [
            "Epoch 1/10, Training Loss: 0.5548832276003147, Validation Loss: 0.40404756367206573\n",
            "Epoch 2/10, Training Loss: 0.4035433315164675, Validation Loss: 0.42047197045758367\n",
            "Epoch 3/10, Training Loss: 0.27456005856515914, Validation Loss: 0.4123247158713639\n",
            "Epoch 4/10, Training Loss: 0.1932088140761707, Validation Loss: 0.19231964612845331\n",
            "Epoch 5/10, Training Loss: 0.13770017694167005, Validation Loss: 0.253591971937567\n",
            "Epoch 6/10, Training Loss: 0.09770795675676043, Validation Loss: 0.09545387531397864\n",
            "Epoch 7/10, Training Loss: 0.0978690646513085, Validation Loss: 0.06567854329477996\n",
            "Epoch 8/10, Training Loss: 0.0637508087272839, Validation Loss: 0.09252355455828365\n",
            "Epoch 9/10, Training Loss: 0.06912293892762647, Validation Loss: 0.0900540049187839\n",
            "Epoch 10/10, Training Loss: 0.04048107913127396, Validation Loss: 0.047768276308488566\n"
          ]
        },
        {
          "output_type": "display_data",
          "data": {
            "text/plain": [
              "<Figure size 1000x500 with 1 Axes>"
            ],
            "image/png": "[encoded data removed]"
          },
          "metadata": {}
        }
      ]
    },
    {
      "cell_type": "code",
      "source": [
        "model.eval()\n",
        "test_loss = 0.0\n",
        "correct = 0\n",
        "total = 0\n",
        "with torch.no_grad():\n",
        "    for inputs, labels in test_loader:\n",
        "        inputs, labels = inputs.to(device), labels.to(device)\n",
        "        outputs = model(inputs)\n",
        "        loss = criterion(outputs, labels)\n",
        "        test_loss += loss.item()\n",
        "        _, predicted = torch.max(outputs, 1)\n",
        "        total += labels.size(0)\n",
        "        correct += (predicted == labels).sum().item()\n",
        "\n",
        "test_loss = test_loss / len(test_loader)\n",
        "test_accuracy = 100 * correct / total\n",
        "\n",
        "print(f\"Test Loss: {test_loss}\")\n",
        "print(f\"Test Accuracy: {test_accuracy}%\")"
      ],
      "metadata": {
        "id": "9089_5rDvBZU",
        "colab": {
          "base_uri": "https://localhost:8080/"
        },
        "outputId": "e8a40710-1910-4929-acd1-8011216e30de"
      },
      "execution_count": null,
      "outputs": [
        {
          "output_type": "stream",
          "name": "stdout",
          "text": [
            "Test Loss: 0.30922331869403835\n",
            "Test Accuracy: 89.16666666666667%\n"
          ]
        }
      ]
    },
    {
      "cell_type": "code",
      "source": [
        "model_ruta = 'Radiographies/radiographies_model.pth'\n",
        "torch.save(model.state_dict(), model_ruta)\n",
        "\n",
        "\n",
        "#model = createNetwork(num_classes=2)\n",
        "#model.load_state_dict(torch.load('inception_model.pth'))\n",
        "model = model.to(device)"
      ],
      "metadata": {
        "id": "DbR3HkoNvH4z"
      },
      "execution_count": null,
      "outputs": []
    },
    {
      "cell_type": "code",
      "source": [
        "def train(model, optimiser, epochs):\n",
        "    model = model.to(device=device)\n",
        "    for epoch in range(epochs):\n",
        "        for i, (xi, yi) in enumerate(train_loader):\n",
        "            model.train()\n",
        "            xi = xi.to(device=device, dtype=torch.float32)\n",
        "            yi = yi.to(device=device, dtype=torch.long)\n",
        "            scores = model(xi)\n",
        "            cost = F.cross_entropy(input= scores, target=yi)\n",
        "            optimiser.zero_grad()\n",
        "            cost.backward()\n",
        "            optimiser.step()\n",
        "        acc = accuracy(model, val_loader)\n",
        "        print(f'Epoch: {epoch}, costo: {cost.item()}, accuracy: {acc},')"
      ],
      "metadata": {
        "id": "hRrpG9a9Fsb7"
      },
      "execution_count": null,
      "outputs": []
    },
    {
      "cell_type": "code",
      "source": [
        "#!git config --global user.email \"idkb1910@gmail.com\"\n",
        "#!git config --global user.name \"juang1910\"\n"
      ],
      "metadata": {
        "id": "Sj4KMwLCLfIX"
      },
      "execution_count": null,
      "outputs": []
    },
    {
      "cell_type": "code",
      "source": [
        "#%cd Radiographies\n",
        "!pwd\n"
      ],
      "metadata": {
        "colab": {
          "base_uri": "https://localhost:8080/"
        },
        "id": "iU1bKRgBP9ia",
        "outputId": "c996dfe0-b9c7-4697-9aec-38d7ce0d33c7"
      },
      "execution_count": null,
      "outputs": [
        {
          "output_type": "stream",
          "name": "stdout",
          "text": [
            "/content/Radiographies\n"
          ]
        }
      ]
    },
    {
      "cell_type": "code",
      "source": [
        "!git add radiographies_model.pth\n",
        "\n",
        "!git commit -m \"add trained model\"\n",
        "\n"
      ],
      "metadata": {
        "colab": {
          "base_uri": "https://localhost:8080/"
        },
        "id": "OJHF137RQCWQ",
        "outputId": "44adff6e-869b-47f0-a0bd-f4e2092f02cb"
      },
      "execution_count": null,
      "outputs": [
        {
          "output_type": "stream",
          "name": "stdout",
          "text": [
            "On branch main\n",
            "Your branch is ahead of 'origin/main' by 1 commit.\n",
            "  (use \"git push\" to publish your local commits)\n",
            "\n",
            "nothing to commit, working tree clean\n"
          ]
        }
      ]
    },
    {
      "cell_type": "code",
      "source": [
        "!git push origin"
      ],
      "metadata": {
        "colab": {
          "base_uri": "https://localhost:8080/"
        },
        "id": "FQmZzNLYTdJ4",
        "outputId": "a12c0bc3-05df-43b6-8b49-f699935efdf0"
      },
      "execution_count": null,
      "outputs": [
        {
          "output_type": "stream",
          "name": "stdout",
          "text": [
            "fatal: could not read Username for 'https://github.com': No such device or address\n"
          ]
        }
      ]
    },
    {
      "cell_type": "code",
      "source": [
        "\n"
      ],
      "metadata": {
        "id": "ROA_4m7DWVHz"
      },
      "execution_count": null,
      "outputs": []
    }
  ]
}